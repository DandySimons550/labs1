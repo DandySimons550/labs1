{
 "cells": [
  {
   "cell_type": "code",
   "execution_count": 9,
   "id": "3ed20ab3-2589-44c7-b8e1-307a6bf70b36",
   "metadata": {},
   "outputs": [
    {
     "name": "stdout",
     "output_type": "stream",
     "text": [
      "Самый младший студент:\n",
      "ФИО: Иванов Иван\n",
      "Дата рождения: 1990-05-10\n",
      "\n",
      "Самый старший студент:\n",
      "ФИО: Петровский Дмитрий\n",
      "Дата рождения: 1999-04-15\n"
     ]
    }
   ],
   "source": [
    "import datetime\n",
    "\n",
    "# 1. Чтение данных из исходного файла\n",
    "students_data = []  # Список для хранения информации о студентах\n",
    "\n",
    "with open('students.txt', 'r', encoding='utf-8') as file:\n",
    "    for line in file:\n",
    "        # Разбиение строки на оя тдельные поля\n",
    "        fields = line.strip().split(',')  # Предполагается, что поля разделены запятыми\n",
    "\n",
    "        # Проверка наличия достаточного количества полей в строке\n",
    "        if len(fields) < 3:\n",
    "            continue  # Пропустить строку, если полей недостаточно\n",
    "\n",
    "        # Создание словаря с информацией о студенте\n",
    "        student = {\n",
    "            'last_name': fields[0],\n",
    "            'first_name': fields[1],\n",
    "            'birthdate': datetime.datetime.strptime(fields[2], '%Y-%m-%d').date(),\n",
    "            'exams': []\n",
    "        }\n",
    "\n",
    "        # Добавление информации о зачетках студента\n",
    "        for i in range(3, len(fields), 4):\n",
    "            # Проверка наличия достаточного количества полей для информации о зачетке\n",
    "            if i + 3 >= len(fields):\n",
    "                break  # Прервать цикл, если полей недостаточно\n",
    "\n",
    "            exam = {\n",
    "                'subject': fields[i],\n",
    "                'exam_date': datetime.datetime.strptime(fields[i+1], '%Y-%m-%d').date(),\n",
    "                'instructor': fields[i+2]\n",
    "            }\n",
    "            student['exams'].append(exam)\n",
    "\n",
    "        # Добавление студента в список\n",
    "        students_data.append(student)\n",
    "\n",
    "# 3. Поиск самого младшего и самого старшего студента\n",
    "min_age = min(students_data, key=lambda student: student['birthdate'])\n",
    "max_age = max(students_data, key=lambda student: student['birthdate'])\n",
    "\n",
    "# 4. Вывод информации о самом младшем и самом старшем студентах\n",
    "print(\"Самый младший студент:\")\n",
    "print(\"ФИО: {} {}\".format(min_age['last_name'], min_age['first_name']))\n",
    "print(\"Дата рождения: {}\".format(min_age['birthdate']))\n",
    "\n",
    "print(\"\\nСамый старший студент:\")\n",
    "print(\"ФИО: {} {}\".format(max_age['last_name'], max_age['first_name']))\n",
    "print(\"Дата рождения: {}\".format(max_age['birthdate']))"
   ]
  },
  {
   "cell_type": "code",
   "execution_count": null,
   "id": "8008e8b4-40cf-400f-81c9-92614ba7d05e",
   "metadata": {},
   "outputs": [],
   "source": []
  },
  {
   "cell_type": "code",
   "execution_count": null,
   "id": "7b81c598-0c80-4dcc-9d2b-1d183c74f23f",
   "metadata": {},
   "outputs": [],
   "source": []
  }
 ],
 "metadata": {
  "kernelspec": {
   "display_name": "Python 3 (ipykernel)",
   "language": "python",
   "name": "python3"
  },
  "language_info": {
   "codemirror_mode": {
    "name": "ipython",
    "version": 3
   },
   "file_extension": ".py",
   "mimetype": "text/x-python",
   "name": "python",
   "nbconvert_exporter": "python",
   "pygments_lexer": "ipython3",
   "version": "3.10.9"
  }
 },
 "nbformat": 4,
 "nbformat_minor": 5
}
