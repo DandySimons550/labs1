{
 "cells": [
  {
   "cell_type": "code",
   "execution_count": 1,
   "id": "0f465fc5-00c1-4983-99e0-5a7e8d83bda1",
   "metadata": {},
   "outputs": [
    {
     "name": "stdout",
     "output_type": "stream",
     "text": [
      "Количество слов в строке: 5\n"
     ]
    }
   ],
   "source": [
    "def count_words(string):\n",
    "    words = string.split()\n",
    "    return len(words)\n",
    "sentence = \"Пример строки с несколькими словами.\"\n",
    "word_count = count_words(sentence)\n",
    "print(\"Количество слов в строке:\", word_count)"
   ]
  },
  {
   "cell_type": "code",
   "execution_count": null,
   "id": "a2285585-ac15-49cd-a3dd-898d7d075aa0",
   "metadata": {},
   "outputs": [],
   "source": []
  }
 ],
 "metadata": {
  "kernelspec": {
   "display_name": "Python 3 (ipykernel)",
   "language": "python",
   "name": "python3"
  },
  "language_info": {
   "codemirror_mode": {
    "name": "ipython",
    "version": 3
   },
   "file_extension": ".py",
   "mimetype": "text/x-python",
   "name": "python",
   "nbconvert_exporter": "python",
   "pygments_lexer": "ipython3",
   "version": "3.10.9"
  }
 },
 "nbformat": 4,
 "nbformat_minor": 5
}
